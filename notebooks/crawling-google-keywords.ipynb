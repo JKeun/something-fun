{
 "cells": [
  {
   "cell_type": "markdown",
   "metadata": {},
   "source": [
    "## html 구조 살펴보기"
   ]
  },
  {
   "cell_type": "code",
   "execution_count": 2,
   "metadata": {
    "collapsed": true
   },
   "outputs": [],
   "source": [
    "import pandas as pd\n",
    "import requests\n",
    "from bs4 import BeautifulSoup"
   ]
  },
  {
   "cell_type": "code",
   "execution_count": 3,
   "metadata": {
    "scrolled": true
   },
   "outputs": [
    {
     "name": "stdout",
     "output_type": "stream",
     "text": [
      "https://www.google.co.kr/search?q=임플란트&start=100\n"
     ]
    }
   ],
   "source": [
    "keyword = \"임플란트\"\n",
    "num = 100\n",
    "base_url = \"https://www.google.co.kr/search?q={keyword}&start={num}\".format(keyword=keyword, num=num)\n",
    "print(base_url)"
   ]
  },
  {
   "cell_type": "code",
   "execution_count": 14,
   "metadata": {},
   "outputs": [
    {
     "name": "stdout",
     "output_type": "stream",
     "text": [
      "[<div class=\"g\"><h3 class=\"r\"><a href=\"/url?q=http://hanindental.com/blog/%3Fpage_id%3D34&amp;sa=U&amp;ved=0ahUKEwi0hZ_f0ZzTAhXIgrwKHVoKCks4ChAWCBMwAA&amp;usg=AFQjCNHYDkcop29gCkg4tdVvCUQFLH59MQ\"><b>ÀÓÇÃ¶õÆ®</b> : hanindental.com</a></h3><div class=\"s\"><div class=\"kv\" style=\"margin-bottom:2px\"><cite>hanindental.com/blog/?page_id=34</cite><div class=\"_nBb\"><div aria-expanded=\"false\" aria-haspopup=\"true\" data-ved=\"0ahUKEwi0hZ_f0ZzTAhXIgrwKHVoKCks4ChDsHQgUMAA\" onclick=\"google.sham(this);\" style=\"display:inline\" tabindex=\"0\"><span class=\"_O0\"></span></div><div class=\"am-dropdown-menu\" role=\"menu\" style=\"display:none\" tabindex=\"-1\"><ul><li class=\"_Ykb\"><a class=\"_Zkb\" href=\"/url?q=http://webcache.googleusercontent.com/search%3Fq%3Dcache:e4sZ6DffCpcJ:http://hanindental.com/blog/%3Fpage_id%253D34%252B%25EC%259E%2584%25ED%2594%258C%25EB%259E%2580%25ED%258A%25B8%26hl%3Dko%26ct%3Dclnk&amp;sa=U&amp;ved=0ahUKEwi0hZ_f0ZzTAhXIgrwKHVoKCks4ChAgCBYwAA&amp;usg=AFQjCNFSy4BcLOhTw9V9VigQBEl9bts_Fw\">ÀúÀåµÈ ÆäÀÌÁö</a></li><li class=\"_Ykb\"><a class=\"_Zkb\" href=\"/search?ie=UTF-8&amp;q=related:hanindental.com/blog/%3Fpage_id%3D34+%EC%9E%84%ED%94%8C%EB%9E%80%ED%8A%B8&amp;tbo=1&amp;sa=X&amp;ved=0ahUKEwi0hZ_f0ZzTAhXIgrwKHVoKCks4ChAfCBcwAA\">À¯»çÇÑ ÆäÀÌÁö</a></li></ul></div></div></div><span class=\"st\"><b>ÀÓÇÃ¶õÆ®</b>. <b>ÀÓÇÃ¶õÆ®</b>¶õ, Ä¡¾Æ°¡ »ó½ÇµÈ ºÎÀ§¿¡ ÀÎ°øÄ¡±Ù(ÀÎ°ø»Ñ¸®)¸¦ ÅÎ»À¿¡ ÀÌ½Ä<br>\n",
      "ÇÏ°í Ä¡¾Æ¸¦ ¼öº¹ÇÏ´Â Ä¡·á¹æ¹ýÀÔ´Ï´Ù. <b>ÀÓÇÃ¶õÆ®</b>¿¡ ÀÌ¿ëµÇ´Â ÀÎ°ø Ä¡±ÙÀÇ Àç·á´Â ...</br></span><br/></div></div>, <div class=\"g\"><h3 class=\"r\"><a href=\"/url?q=http://m.blog.naver.com/postit1/100199209692&amp;sa=U&amp;ved=0ahUKEwi0hZ_f0ZzTAhXIgrwKHVoKCks4ChAWCBkwAQ&amp;usg=AFQjCNEPgREw9D3xnvV08r-IAduRDrSzoA\">ºÎÃµ<b>ÀÓÇÃ¶õÆ®</b>Ä¡°úÃßÃµ ¿Í¶ó¿Í¶ó~ : ³×ÀÌ¹ö ºí·Î±×</a></h3><div class=\"s\"><div class=\"kv\" style=\"margin-bottom:2px\"><cite>m.blog.naver.com/postit1/100199209692</cite><div class=\"_nBb\"><div aria-expanded=\"false\" aria-haspopup=\"true\" data-ved=\"0ahUKEwi0hZ_f0ZzTAhXIgrwKHVoKCks4ChDsHQgaMAE\" onclick=\"google.sham(this);\" style=\"display:inline\" tabindex=\"0\"><span class=\"_O0\"></span></div><div class=\"am-dropdown-menu\" role=\"menu\" style=\"display:none\" tabindex=\"-1\"><ul><li class=\"_Ykb\"><a class=\"_Zkb\" href=\"/url?q=http://webcache.googleusercontent.com/search%3Fq%3Dcache:x7IwzElrn30J:http://m.blog.naver.com/postit1/100199209692%252B%25EC%259E%2584%25ED%2594%258C%25EB%259E%2580%25ED%258A%25B8%26hl%3Dko%26ct%3Dclnk&amp;sa=U&amp;ved=0ahUKEwi0hZ_f0ZzTAhXIgrwKHVoKCks4ChAgCBwwAQ&amp;usg=AFQjCNEfEPhJywq5jycEhEUH0nc6-jffFw\">ÀúÀåµÈ ÆäÀÌÁö</a></li></ul></div></div></div><span class=\"st\">2013³â 11¿ù 4ÀÏ <b>...</b> ºÎÃµÄ¡°úÃßÃµ! ºÎÃµ<b>ÀÓÇÃ¶õÆ®</b> ÀßÇÏ´Â Ä¡°ú´Â ¿ª½Ã! Å¥ÇÁ¶óÀÓÄ¡°ú! ¿äÁò Á¤¸» ½Ò½Ò<br>\n",
      "ÇØ¿ä ¿À´ÃÀº ¾ã°Ô ¿ÊÀ» ÀÔ°í ³ª°¬´õ´Ï ´ú´ú´ú ¶³´Ù°¡ Áý¿¡ µé¾î ...</br></span><br/></div></div>, <div class=\"g\"><h3 class=\"r\"><a href=\"/url?q=http://www.straumann.kr/ko/patients/a-solution-for-you/replacement-solutions/what-is-a-dental-implant.html&amp;sa=U&amp;ved=0ahUKEwi0hZ_f0ZzTAhXIgrwKHVoKCks4ChAWCB8wAg&amp;usg=AFQjCNHqJ1QgiSeMckzOOb3ThNJQL4Bktg\"><b>ÀÓÇÃ¶õÆ®</b>¶õ ¹«¾ùÀÎ°¡¿ä - ½ºÆ®¶ó¿ì¸¸</a></h3><div class=\"s\"><div class=\"kv\" style=\"margin-bottom:2px\"><cite>www.straumann.kr/ko/.../a.../what-is-a-dental-<b>implant</b>.html</cite><div class=\"_nBb\"><div aria-expanded=\"false\" aria-haspopup=\"true\" data-ved=\"0ahUKEwi0hZ_f0ZzTAhXIgrwKHVoKCks4ChDsHQggMAI\" onclick=\"google.sham(this);\" style=\"display:inline\" tabindex=\"0\"><span class=\"_O0\"></span></div><div class=\"am-dropdown-menu\" role=\"menu\" style=\"display:none\" tabindex=\"-1\"><ul><li class=\"_Ykb\"><a class=\"_Zkb\" href=\"/url?q=http://webcache.googleusercontent.com/search%3Fq%3Dcache:CocgCupor50J:http://www.straumann.kr/ko/patients/a-solution-for-you/replacement-solutions/what-is-a-dental-implant.html%252B%25EC%259E%2584%25ED%2594%258C%25EB%259E%2580%25ED%258A%25B8%26hl%3Dko%26ct%3Dclnk&amp;sa=U&amp;ved=0ahUKEwi0hZ_f0ZzTAhXIgrwKHVoKCks4ChAgCCIwAg&amp;usg=AFQjCNE3mm0Xv4iO85vequ3LWCQ4QLn-nw\">ÀúÀåµÈ ÆäÀÌÁö</a></li><li class=\"_Ykb\"><a class=\"_Zkb\" href=\"/search?ie=UTF-8&amp;q=related:www.straumann.kr/ko/patients/a-solution-for-you/replacement-solutions/what-is-a-dental-implant.html+%EC%9E%84%ED%94%8C%EB%9E%80%ED%8A%B8&amp;tbo=1&amp;sa=X&amp;ved=0ahUKEwi0hZ_f0ZzTAhXIgrwKHVoKCks4ChAfCCMwAg\">À¯»çÇÑ ÆäÀÌÁö</a></li></ul></div></div></div><span class=\"st\"><b>ÀÓÇÃ¶õÆ®</b>¶õ ¹«¾ùÀÏ±î¿ä? <b>ÀÓÇÃ¶õÆ®</b>¶õ »ó½ÇµÈ Ä¡±ÙÀ» ´ëÃ¼ÇÏ°í ÇØ´ç ºÎÀ§¿¡ ÀÎ°ø <br>\n",
      "Ä¡¾Æ¸¦ ½Ä¸³ÇÏ¿© Ä¡¾Æ ±â´ÉÀ» ´ëÃ¼ÇÏ´Â Ä¡·á¸¦ ÀÇ¹ÌÇÕ´Ï´Ù.</br></span><br/></div></div>, <div class=\"g\"><h3 class=\"r\"><a href=\"/url?q=http://www.dio.co.kr/kor/intro.do&amp;sa=U&amp;ved=0ahUKEwi0hZ_f0ZzTAhXIgrwKHVoKCks4ChAWCCUwAw&amp;usg=AFQjCNH5zHpVDlkGK_UIz6qh7JoI0eDHrg\">µð¿À<b>ÀÓÇÃ¶õÆ®</b> Digital <b>Implant</b></a></h3><div class=\"s\"><div class=\"kv\" style=\"margin-bottom:2px\"><cite>www.dio.co.kr/kor/intro.do</cite><div class=\"_nBb\"><div aria-expanded=\"false\" aria-haspopup=\"true\" data-ved=\"0ahUKEwi0hZ_f0ZzTAhXIgrwKHVoKCks4ChDsHQgmMAM\" onclick=\"google.sham(this);\" style=\"display:inline\" tabindex=\"0\"><span class=\"_O0\"></span></div><div class=\"am-dropdown-menu\" role=\"menu\" style=\"display:none\" tabindex=\"-1\"><ul><li class=\"_Ykb\"><a class=\"_Zkb\" href=\"/url?q=http://webcache.googleusercontent.com/search%3Fq%3Dcache:cGJtLiFt4xIJ:http://www.dio.co.kr/kor/intro.do%252B%25EC%259E%2584%25ED%2594%258C%25EB%259E%2580%25ED%258A%25B8%26hl%3Dko%26ct%3Dclnk&amp;sa=U&amp;ved=0ahUKEwi0hZ_f0ZzTAhXIgrwKHVoKCks4ChAgCCgwAw&amp;usg=AFQjCNFDauoaEm3QhlKjvDRH1fduO3Qk3w\">ÀúÀåµÈ ÆäÀÌÁö</a></li></ul></div></div></div><span class=\"st\">µð¿À ±â¾÷¼Ò°³, »ç¾÷ÇöÈ², µðÁöÅÐ<b>ÀÓÇÃ¶õÆ®</b> µð¿À³ªºñ, ¼¼¹Ì³ª, DDA ±³À°, µð¿À°ÅÇ°<br>\n",
      "Ä¡¾à.</br></span><br/></div></div>, <div class=\"g\"><h3 class=\"r\"><a href=\"/url?q=http://www.osstem.co.kr/&amp;sa=U&amp;ved=0ahUKEwi0hZ_f0ZzTAhXIgrwKHVoKCks4ChAWCCowBA&amp;usg=AFQjCNEii4pSqbO1q-U-jUbJC6ZktQFqng\">¿À½ºÅÛ<b>ÀÓÇÃ¶õÆ®</b>(ÁÖ)</a></h3><div class=\"s\"><div class=\"kv\" style=\"margin-bottom:2px\"><cite>www.osstem.co.kr/</cite><div class=\"_nBb\"><div aria-expanded=\"false\" aria-haspopup=\"true\" data-ved=\"0ahUKEwi0hZ_f0ZzTAhXIgrwKHVoKCks4ChDsHQgrMAQ\" onclick=\"google.sham(this);\" style=\"display:inline\" tabindex=\"0\"><span class=\"_O0\"></span></div><div class=\"am-dropdown-menu\" role=\"menu\" style=\"display:none\" tabindex=\"-1\"><ul><li class=\"_Ykb\"><a class=\"_Zkb\" href=\"/url?q=http://webcache.googleusercontent.com/search%3Fq%3Dcache:37vrLpSmnxoJ:http://www.osstem.co.kr/%252B%25EC%259E%2584%25ED%2594%258C%25EB%259E%2580%25ED%258A%25B8%26hl%3Dko%26ct%3Dclnk&amp;sa=U&amp;ved=0ahUKEwi0hZ_f0ZzTAhXIgrwKHVoKCks4ChAgCC0wBA&amp;usg=AFQjCNHq0EpoC9HAtgWfomY8fw4E5nPpsQ\">ÀúÀåµÈ ÆäÀÌÁö</a></li><li class=\"_Ykb\"><a class=\"_Zkb\" href=\"/search?ie=UTF-8&amp;q=related:www.osstem.co.kr/+%EC%9E%84%ED%94%8C%EB%9E%80%ED%8A%B8&amp;tbo=1&amp;sa=X&amp;ved=0ahUKEwi0hZ_f0ZzTAhXIgrwKHVoKCks4ChAfCC4wBA\">À¯»çÇÑ ÆäÀÌÁö</a></li></ul></div></div></div><span class=\"st\">¿À½ºÅÛ, DENTEX¼­ ¼±º¸ÀÎ '¼º°ø°³¿ø ÅäÅ» ¼Ö·ç¼Ç' È£Æò · ¡°2023³â ±Û·Î¹ú <b>ÀÓÇÃ¶õÆ®</b> <br>\n",
      "1À§ ¿ì¶Ò¡± · ¿À½ºÅÛ 'X1' ÀÕ´Ü '±Â µðÀÚÀÎ ¾î¿öµå' ¼ö»ó · '²À ¿À½ºÅÛ'ÀÌ¾î¾ß ÇÏ´Â ÀÌÀ¯ ...</br></span><br/></div></div>, <div class=\"g\"><h3 class=\"r\"><a href=\"/url?q=http://www.implant.or.kr/&amp;sa=U&amp;ved=0ahUKEwi0hZ_f0ZzTAhXIgrwKHVoKCks4ChAWCDAwBQ&amp;usg=AFQjCNGvNHsIgjwqdGmY7Bu6js83sMK4zg\">´ëÇÑ±¸°­¾Ç¾È¸éÀÓÇÁ¶õÆ®ÇÐÈ¸</a></h3><div class=\"s\"><div class=\"kv\" style=\"margin-bottom:2px\"><cite>www.<b>implant</b>.or.kr/</cite><div class=\"_nBb\"><div aria-expanded=\"false\" aria-haspopup=\"true\" data-ved=\"0ahUKEwi0hZ_f0ZzTAhXIgrwKHVoKCks4ChDsHQgxMAU\" onclick=\"google.sham(this);\" style=\"display:inline\" tabindex=\"0\"><span class=\"_O0\"></span></div><div class=\"am-dropdown-menu\" role=\"menu\" style=\"display:none\" tabindex=\"-1\"><ul><li class=\"_Ykb\"><a class=\"_Zkb\" href=\"/url?q=http://webcache.googleusercontent.com/search%3Fq%3Dcache:JccEzJiQ-lEJ:http://www.implant.or.kr/%252B%25EC%259E%2584%25ED%2594%258C%25EB%259E%2580%25ED%258A%25B8%26hl%3Dko%26ct%3Dclnk&amp;sa=U&amp;ved=0ahUKEwi0hZ_f0ZzTAhXIgrwKHVoKCks4ChAgCDMwBQ&amp;usg=AFQjCNE9uTonLGGnJYKbQPSOIfq78cG4gA\">ÀúÀåµÈ ÆäÀÌÁö</a></li><li class=\"_Ykb\"><a class=\"_Zkb\" href=\"/search?ie=UTF-8&amp;q=related:www.implant.or.kr/+%EC%9E%84%ED%94%8C%EB%9E%80%ED%8A%B8&amp;tbo=1&amp;sa=X&amp;ved=0ahUKEwi0hZ_f0ZzTAhXIgrwKHVoKCks4ChAfCDQwBQ\">À¯»çÇÑ ÆäÀÌÁö</a></li></ul></div></div></div><span class=\"st\">... ½Å°ü 507È£ (¿ª»ïµ¿. ÇÑ±¹°úÇÐ±â¼úÈ¸°ü) ´ëÇÑ±¸°­¾ÇÀÓÇÁ¶õÆ®ÇÐÈ¸. ÀüÈ­¹øÈ£ : 02-<br>\n",
      "558-5966; ÆÑ½º : 02-558-5965; ÀÌ¸ÞÀÏ : webmaster@<b>implant</b>.or.kr; ´ëÇ¥ÀÚ : ¿©È¯È£<br>\n",
      ".</br></br></span><br/></div></div>, <div class=\"g\"><h3 class=\"r\"><a href=\"/url?q=http://www.cmcbucheon.or.kr/examination/clinic_01_01.jsp%3Fdtno%3D190%26dcno%3D483&amp;sa=U&amp;ved=0ahUKEwi0hZ_f0ZzTAhXIgrwKHVoKCks4ChAWCDYwBg&amp;usg=AFQjCNHGtyelIZ7zwzmmHe6iRQyp1J2mmw\"><b>ÀÓÇÃ¶õÆ®</b> Å¬¸®´Ð - °¡Åç¸¯´ëÇÐ±³ ºÎÃµ¼º¸ðº´¿ø + »ý¸íÀ» Á¸ÁßÇÏ´Â ...</a></h3><div class=\"s\"><div class=\"kv\" style=\"margin-bottom:2px\"><cite>www.cmcbucheon.or.kr/examination/clinic_01_01.jsp?...</cite><div class=\"_nBb\"><div aria-expanded=\"false\" aria-haspopup=\"true\" data-ved=\"0ahUKEwi0hZ_f0ZzTAhXIgrwKHVoKCks4ChDsHQg3MAY\" onclick=\"google.sham(this);\" style=\"display:inline\" tabindex=\"0\"><span class=\"_O0\"></span></div><div class=\"am-dropdown-menu\" role=\"menu\" style=\"display:none\" tabindex=\"-1\"><ul><li class=\"_Ykb\"><a class=\"_Zkb\" href=\"/url?q=http://webcache.googleusercontent.com/search%3Fq%3Dcache:KcK4KBrx8X0J:http://www.cmcbucheon.or.kr/examination/clinic_01_01.jsp%3Fdtno%253D190%2526dcno%253D483%252B%25EC%259E%2584%25ED%2594%258C%25EB%259E%2580%25ED%258A%25B8%26hl%3Dko%26ct%3Dclnk&amp;sa=U&amp;ved=0ahUKEwi0hZ_f0ZzTAhXIgrwKHVoKCks4ChAgCDkwBg&amp;usg=AFQjCNF2btMve7lXaXaonyCta0LuYmHhqw\">ÀúÀåµÈ ÆäÀÌÁö</a></li><li class=\"_Ykb\"><a class=\"_Zkb\" href=\"/search?ie=UTF-8&amp;q=related:www.cmcbucheon.or.kr/examination/clinic_01_01.jsp%3Fdtno%3D190%26dcno%3D483+%EC%9E%84%ED%94%8C%EB%9E%80%ED%8A%B8&amp;tbo=1&amp;sa=X&amp;ved=0ahUKEwi0hZ_f0ZzTAhXIgrwKHVoKCks4ChAfCDowBg\">À¯»çÇÑ ÆäÀÌÁö</a></li></ul></div></div></div><span class=\"st\"><b>ÀÓÇÃ¶õÆ®</b>¶õ? »ó½ÇµÈ ÀÎÃ¼Á¶Á÷À» È¸º¹½ÃÄÑÁÖ´Â ´ëÄ¡¹°À» ÀÇ¹ÌÇÕ´Ï´Ù. »ó½ÇµÈ Ä¡¾ÆÀÇ <br>\n",
      "Ä¡±Ù(»Ñ¸®)À» ´ë½ÌÇÒ ¼ö ÀÖµµ·Ï ÀÎÃ¼ °ÅºÎ¹ÝÀÀÀÌ ¾ø´Â Å¸ÀÌÅ¸´½(Titanium)À¸·Î ...</br></span><br/></div></div>, <div class=\"g\"><h3 class=\"r\"><a href=\"/url?q=http://inmom.tistory.com/12&amp;sa=U&amp;ved=0ahUKEwi0hZ_f0ZzTAhXIgrwKHVoKCks4ChAWCDwwBw&amp;usg=AFQjCNG-f0gDg4-dYuX_4XXtrzjY9lXorA\">¾ö¸¶ ¾îµð°¡? :: ºÎÃµ<b>ÀÓÇÃ¶õÆ®</b> ¾îµð°¡ À¯¸íÇÑÁö ¾Æ¼¼¿ä!?</a></h3><div class=\"s\"><div class=\"kv\" style=\"margin-bottom:2px\"><cite>inmom.tistory.com/12</cite><div class=\"_nBb\"><div aria-expanded=\"false\" aria-haspopup=\"true\" data-ved=\"0ahUKEwi0hZ_f0ZzTAhXIgrwKHVoKCks4ChDsHQg9MAc\" onclick=\"google.sham(this);\" style=\"display:inline\" tabindex=\"0\"><span class=\"_O0\"></span></div><div class=\"am-dropdown-menu\" role=\"menu\" style=\"display:none\" tabindex=\"-1\"><ul><li class=\"_Ykb\"><a class=\"_Zkb\" href=\"/url?q=http://webcache.googleusercontent.com/search%3Fq%3Dcache:tZOeu16vdi4J:http://inmom.tistory.com/12%252B%25EC%259E%2584%25ED%2594%258C%25EB%259E%2580%25ED%258A%25B8%26hl%3Dko%26ct%3Dclnk&amp;sa=U&amp;ved=0ahUKEwi0hZ_f0ZzTAhXIgrwKHVoKCks4ChAgCD8wBw&amp;usg=AFQjCNEdurPOCNm8LyHJ3UWYnldjEUjVIg\">ÀúÀåµÈ ÆäÀÌÁö</a></li><li class=\"_Ykb\"><a class=\"_Zkb\" href=\"/search?ie=UTF-8&amp;q=related:inmom.tistory.com/12+%EC%9E%84%ED%94%8C%EB%9E%80%ED%8A%B8&amp;tbo=1&amp;sa=X&amp;ved=0ahUKEwi0hZ_f0ZzTAhXIgrwKHVoKCks4ChAfCEAwBw\">À¯»çÇÑ ÆäÀÌÁö</a></li></ul></div></div></div><span class=\"st\">2013³â 11¿ù 20ÀÏ <b>...</b> ºÎÃµ<b>ÀÓÇÃ¶õÆ®</b> ¾îµð°¡ À¯¸íÇÑÁö ¾Æ¼¼¿ä!? ÀÌ¹ø¿¡ ¾ð´Ï°¡ ¼ú¸Ô°í ½Ç¼ö¸¦ ÇÏ´Ù°¡ <br>\n",
      "Á¦´ë·Î ²¿²Ù¶óÁ³´õ¶ó±¸¿ä.. ÀÌ¸¦ ¾Æ¿¹ ½Ï °¥¾Æ¾þ¾î¾ßÇÒµí..Àº ¿À¹ö°í ...</br></span><br/></div></div>, <div class=\"g\"><h3 class=\"r\"><a href=\"/url?q=http://www.82cook.com/entiz/read.php%3Fnum%3D1520855&amp;sa=U&amp;ved=0ahUKEwi0hZ_f0ZzTAhXIgrwKHVoKCks4ChAWCEMwCA&amp;usg=AFQjCNEybsvJzqqLgqdZ2cSzwuP1fvEFMg\">³²ÆíÀÌ <b>ÀÓÇÃ¶õÆ®</b> 3°³ÇØ¾ßÇÏ´Âµ¥ °ßÀûÀÌ Ãµ¸¸¿ø³ª¿Ô¾î¿ä - - ::: ¾ËÂù ...</a></h3><div class=\"s\"><div class=\"kv\" style=\"margin-bottom:2px\"><cite>www.82cook.com/entiz/read.php?num=1520855</cite><div class=\"_nBb\"><div aria-expanded=\"false\" aria-haspopup=\"true\" data-ved=\"0ahUKEwi0hZ_f0ZzTAhXIgrwKHVoKCks4ChDsHQhEMAg\" onclick=\"google.sham(this);\" style=\"display:inline\" tabindex=\"0\"><span class=\"_O0\"></span></div><div class=\"am-dropdown-menu\" role=\"menu\" style=\"display:none\" tabindex=\"-1\"><ul><li class=\"_Ykb\"><a class=\"_Zkb\" href=\"/search?ie=UTF-8&amp;q=related:www.82cook.com/entiz/read.php%3Fnum%3D1520855+%EC%9E%84%ED%94%8C%EB%9E%80%ED%8A%B8&amp;tbo=1&amp;sa=X&amp;ved=0ahUKEwi0hZ_f0ZzTAhXIgrwKHVoKCks4ChAfCEYwCA\">À¯»çÇÑ ÆäÀÌÁö</a></li></ul></div></div></div><span class=\"st\">2013³â 3¿ù 24ÀÏ <b>...</b> ´ç´¢°¡ÀÖ°í ÀÌ»¡ »Ñ¸®°¡ ³Ê¹« ±í¾î¼­ 3°³¸¦ ¹ßÄ¡ÇÒ¶§. ¼ö¼úÀ» ÇØ¾ßÇÑ´ë¿ä. ±× ¼ö¼ú<br>\n",
      "ºñ¿ëÀÌ¶û ÀÕ¸öÆÐÀÎ°Å Ä¡·áÇÏ°í »«ÀÌ <b>ÀÓÇÃ¶õÆ®</b>±îÁöÇØ¼­. µÎ´ÞÁ¤µµ ...</br></span><br/></div></div>, <div class=\"g\"><h3 class=\"r\"><a href=\"/url?q=http://www.urimedi.com/dental/implants.jsp&amp;sa=U&amp;ved=0ahUKEwi0hZ_f0ZzTAhXIgrwKHVoKCks4ChAWCEkwCQ&amp;usg=AFQjCNHXuMfzGLh9Jiy5NOb66VYh1tctHw\"><b>ÀÓÇÃ¶õÆ®</b> Å¬¸®´Ð - ºÎÃµ¿ì¸®º´¿ø, °Ç°­°ËÁø, ³»°ú, Á¤Çü¿Ü°ú, Ä¡°ú, 24 ...</a></h3><div class=\"s\"><div class=\"kv\" style=\"margin-bottom:2px\"><cite>www.urimedi.com/dental/<b>implant</b>s.jsp</cite><div class=\"_nBb\"><div aria-expanded=\"false\" aria-haspopup=\"true\" data-ved=\"0ahUKEwi0hZ_f0ZzTAhXIgrwKHVoKCks4ChDsHQhKMAk\" onclick=\"google.sham(this);\" style=\"display:inline\" tabindex=\"0\"><span class=\"_O0\"></span></div><div class=\"am-dropdown-menu\" role=\"menu\" style=\"display:none\" tabindex=\"-1\"><ul><li class=\"_Ykb\"><a class=\"_Zkb\" href=\"/url?q=http://webcache.googleusercontent.com/search%3Fq%3Dcache:sqHxiL8tKmQJ:http://www.urimedi.com/dental/implants.jsp%252B%25EC%259E%2584%25ED%2594%258C%25EB%259E%2580%25ED%258A%25B8%26hl%3Dko%26ct%3Dclnk&amp;sa=U&amp;ved=0ahUKEwi0hZ_f0ZzTAhXIgrwKHVoKCks4ChAgCEwwCQ&amp;usg=AFQjCNFRCnlkh-jMbU1DdE8D4WoWChwTHw\">ÀúÀåµÈ ÆäÀÌÁö</a></li></ul></div></div></div><span class=\"st\">ºÎÃµ¿ì¸®º´¿ø Ä¡°úÀÇ <b>ÀÓÇÃ¶õÆ®</b> ½Ã½ºÅÛ. Á¤È®ÇÑ Áø´Ü ¹× ½Ã¼ú. X-ray »çÁøÀ» ÅëÇÑ <br>\n",
      "Á¤È®ÇÑ Áø´ÜÀ» ¹ÙÅÁÀ¸·Î <b>ÀÓÇÃ¶õÆ®</b>¸¦ ½Ä¸³ ÇÕ´Ï´Ù. Ã¶ÀúÇÑ ¸ê±Õ °ü¸® ½Ã½ºÅÛ</br></span><br/></div></div>]\n"
     ]
    }
   ],
   "source": [
    "# -*- coding: utf-8 -*-\n",
    "\n",
    "base_url = \"http://www.google.co.kr/search?q=임플란트&start=10\"\n",
    "response = requests.get(base_url)\n",
    "dom = BeautifulSoup(response.content, \"html.parser\")\n",
    "elements = dom.select(\".g\")\n",
    "print(elements)"
   ]
  },
  {
   "cell_type": "code",
   "execution_count": 11,
   "metadata": {
    "scrolled": true
   },
   "outputs": [],
   "source": [
    "for element in elements:\n",
    "    link = element.select_one(\"cite\").text\n",
    "    print(link)"
   ]
  },
  {
   "cell_type": "markdown",
   "metadata": {},
   "source": [
    "## 크롤러 만들기"
   ]
  },
  {
   "cell_type": "code",
   "execution_count": 1,
   "metadata": {},
   "outputs": [
    {
     "data": {
      "text/html": [
       "<div>\n",
       "<table border=\"1\" class=\"dataframe\">\n",
       "  <thead>\n",
       "    <tr style=\"text-align: right;\">\n",
       "      <th></th>\n",
       "      <th>link</th>\n",
       "    </tr>\n",
       "  </thead>\n",
       "  <tbody>\n",
       "  </tbody>\n",
       "</table>\n",
       "</div>"
      ],
      "text/plain": [
       "Empty DataFrame\n",
       "Columns: [link]\n",
       "Index: []"
      ]
     },
     "execution_count": 1,
     "metadata": {},
     "output_type": "execute_result"
    }
   ],
   "source": [
    "# -*- coding: utf-8 -*-\n",
    "\n",
    "import pandas as pd\n",
    "import requests\n",
    "from bs4 import BeautifulSoup\n",
    "\n",
    "keyword = \"임플란트\"\n",
    "num = 10\n",
    "\n",
    "df = pd.DataFrame(columns=[\"link\"])\n",
    "\n",
    "try:\n",
    "    for i in range(0, num+1, 10):\n",
    "        base_url = \"https://www.google.co.kr/search?q={keyword}&start={i}\".format(keyword=keyword, i=i)\n",
    "        response = requests.get(base_url)\n",
    "        dom = BeautifulSoup(response.content, \"html.parser\")\n",
    "        elements = dom.select(\".g\")\n",
    "\n",
    "        for element in elements:\n",
    "            try:\n",
    "                link = element.select_one(\"cite\").text\n",
    "            except:\n",
    "                pass\n",
    "\n",
    "            df.loc[len(df)] = [link]\n",
    "except:\n",
    "    pass\n",
    "\n",
    "df"
   ]
  },
  {
   "cell_type": "markdown",
   "metadata": {},
   "source": [
    "## 함수"
   ]
  },
  {
   "cell_type": "code",
   "execution_count": 10,
   "metadata": {
    "collapsed": true
   },
   "outputs": [],
   "source": [
    "import pandas as pd\n",
    "import requests\n",
    "from bs4 import BeautifulSoup\n",
    "\n",
    "def crawl_keyword(keyword, num):\n",
    "    \n",
    "    df = pd.DataFrame(columns=[\"link\"])\n",
    "\n",
    "    try:\n",
    "        for i in range(0, num+1, 10):\n",
    "            base_url = \"https://www.google.co.kr/search?q={keyword}&start={i}\".format(keyword=keyword, i=i)\n",
    "            response = requests.get(base_url)\n",
    "            dom = BeautifulSoup(response.content, \"html.parser\")\n",
    "            elements = dom.select(\".g\")\n",
    "\n",
    "            for element in elements:\n",
    "                try:\n",
    "                    link = element.select_one(\"cite\").text\n",
    "                except:\n",
    "                    pass\n",
    "\n",
    "                df.loc[len(df)] = [link]\n",
    "    except:\n",
    "        pass\n",
    "    \n",
    "    print(df.tail())\n",
    "    return df.to_csv(\"./google-keywords-crawl-{keyword}.csv\".format(keyword=keyword), index=False)"
   ]
  },
  {
   "cell_type": "code",
   "execution_count": 11,
   "metadata": {},
   "outputs": [
    {
     "name": "stdout",
     "output_type": "stream",
     "text": [
      "                                           link\n",
      "207  www.bestimplant.com/.../content.asp?lnb...\n",
      "208            www.applesmile.co.kr/apple/14830\n",
      "209                            www.enedent.com/\n",
      "210                  news1.kr/articles/?2243883\n",
      "211                          www.seokplant.com/\n"
     ]
    }
   ],
   "source": [
    "crawl_keyword(\"임플란트\", 200)"
   ]
  }
 ],
 "metadata": {
  "kernelspec": {
   "display_name": "Python 3",
   "language": "python",
   "name": "python3"
  },
  "language_info": {
   "codemirror_mode": {
    "name": "ipython",
    "version": 3
   },
   "file_extension": ".py",
   "mimetype": "text/x-python",
   "name": "python",
   "nbconvert_exporter": "python",
   "pygments_lexer": "ipython3",
   "version": "3.5.1"
  }
 },
 "nbformat": 4,
 "nbformat_minor": 2
}
