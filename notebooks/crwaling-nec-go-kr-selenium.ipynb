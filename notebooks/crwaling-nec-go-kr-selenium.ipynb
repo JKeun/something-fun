{
 "cells": [
  {
   "cell_type": "code",
   "execution_count": 1,
   "metadata": {
    "collapsed": false
   },
   "outputs": [],
   "source": [
    "from selenium import webdriver\n",
    "import pandas as pd"
   ]
  },
  {
   "cell_type": "code",
   "execution_count": 2,
   "metadata": {
    "collapsed": false,
    "scrolled": false
   },
   "outputs": [],
   "source": [
    "driver = webdriver.Firefox()"
   ]
  },
  {
   "cell_type": "code",
   "execution_count": 3,
   "metadata": {
    "collapsed": false
   },
   "outputs": [],
   "source": [
    "# select ( 데이터를 찾는 기능 )\n",
    "# click ( 클릭 )\n",
    "# send_keys ( 키 입력 )\n",
    "# get ( url 이동 )\n",
    "\n",
    "driver.get(\"http://info.nec.go.kr/main/showDocument.xhtml?electionId=0000000000&topMenuId=BI&secondMenuId=BIPB02\")\n",
    "\n",
    "# 대통령선거 선택\n",
    "driver.find_element_by_css_selector(\"#electionType1\").click()\n",
    "\n",
    "# 제 18대 선택\n",
    "driver.find_element_by_xpath(\"//select[@name='electionName']/option[@value='20121219']\").click()\n",
    "\n",
    "# 조회방법: 구시군별 선택\n",
    "driver.find_element_by_xpath(\"//select[@name='searchType']/option[@value='2']\").click()"
   ]
  },
  {
   "cell_type": "code",
   "execution_count": 39,
   "metadata": {
    "collapsed": false
   },
   "outputs": [],
   "source": [
    "city_codes = [1100, 2600, 2700, 2800, 2900, 3000, 3100, 5100, 4100, 4200, 4300, 4400, 4500, 4600, 4700, 4800, 4900]\n",
    "real_city = [\"서울특별시\", \"부산광역시\", \"대구광역시\", \"인천광역시\", \"광주광역시\", \"대전광역시\" ,\"울산광역시\", \"세종특별자치시\", \"경기도\", \"강원도\" ,\"충청북도\", \"충청남도\", \"전라북도\", \"전라남도\", \"경상북도\", \"경상남도\", \"제주특별자치도\"]"
   ]
  },
  {
   "cell_type": "markdown",
   "metadata": {},
   "source": [
    "### 일단 각 도시별 수작업으로 진행"
   ]
  },
  {
   "cell_type": "code",
   "execution_count": 40,
   "metadata": {
    "collapsed": false
   },
   "outputs": [],
   "source": [
    "city_code = 4900\n",
    "\n",
    "driver.find_element_by_xpath(\"//select[@name='cityCode']/option[@value='{}']\".format(city_code)).click()\n",
    "driver.find_element_by_css_selector(\"#searchBtn\").click()"
   ]
  },
  {
   "cell_type": "code",
   "execution_count": 41,
   "metadata": {
    "collapsed": false
   },
   "outputs": [],
   "source": [
    "df = pd.DataFrame(columns = [\"city_name\", \"dong_count\", \"voting_area_count\", \n",
    "                             \"people\", \"voting_people\", \"disabled_people\", \"family_count\"])\n",
    "\n",
    "try:\n",
    "    for i in range(1, 200, 3):\n",
    "        row = driver.find_element_by_xpath(\"//*[@id='table01']/tbody/tr[{}]\".format(i))\n",
    "\n",
    "        data = row.text\n",
    "        data = data.split(\" \")\n",
    "\n",
    "        city_name = data[0]\n",
    "        dong_count = data[1]\n",
    "        voting_area_count = data[2]\n",
    "        people = data[3].split(\"\\n\")[0]\n",
    "        voting_people = data[7].split(\"\\n\")[0]\n",
    "        disabled_people = data[10].split(\"\\n\")[0]\n",
    "        family_count = data[12].split(\"\\n\")[0]\n",
    "\n",
    "        df.loc[len(df)] = [city_name, dong_count, voting_area_count, people, voting_people, disabled_people, family_count]\n",
    "\n",
    "except:\n",
    "    pass\n",
    "\n",
    "df.to_csv(\"./voting_city/{}.csv\".format(city_code), index=False)"
   ]
  },
  {
   "cell_type": "markdown",
   "metadata": {},
   "source": [
    "### time sleep 넣어서 하는 것 언젠가 해결하기"
   ]
  },
  {
   "cell_type": "code",
   "execution_count": null,
   "metadata": {
    "collapsed": false
   },
   "outputs": [],
   "source": [
    "# 클릭만 하는 코드\n",
    "for city_code in city_codes:\n",
    "        driver.find_element_by_xpath(\"//select[@name='cityCode']/option[@value='{}']\".format(city_code)).click()\n",
    "        driver.find_element_by_css_selector(\"#searchBtn\").click()"
   ]
  },
  {
   "cell_type": "code",
   "execution_count": null,
   "metadata": {
    "collapsed": false
   },
   "outputs": [],
   "source": [
    "try:\n",
    "    for city_code in city_codes:\n",
    "\n",
    "        driver.find_element_by_xpath(\"//select[@name='cityCode']/option[@value='{}']\".format(city_code)).click()\n",
    "        driver.find_element_by_css_selector(\"#searchBtn\").click()\n",
    "        driver.implicitly_wait(90000000)\n",
    "\n",
    "        df = pd.DataFrame(columns = [\"city_name\", \"dong_count\", \"voting_area_count\", \n",
    "                                     \"people\", \"voting_people\", \"disabled_people\", \"family_count\"])\n",
    "\n",
    "        try:\n",
    "            for i in range(1, 100, 3):\n",
    "                row = driver.find_element_by_xpath(\"//*[@id='table01']/tbody/tr[{}]\".format(i))\n",
    "\n",
    "                data = row.text\n",
    "                data = data.split(\" \")\n",
    "\n",
    "                city_name = data[0]\n",
    "                dong_count = data[1]\n",
    "                voting_area_count = data[2]\n",
    "                people = data[3].split(\"\\n\")[0]\n",
    "                voting_people = data[7].split(\"\\n\")[0]\n",
    "                disabled_people = data[10].split(\"\\n\")[0]\n",
    "                family_count = data[12].split(\"\\n\")[0]\n",
    "\n",
    "                df.loc[len(df)] = [city_name, dong_count, voting_area_count, people, voting_people, disabled_people, family_count]\n",
    "\n",
    "        except:\n",
    "            pass\n",
    "\n",
    "        df.to_csv(\"./voting_city/{}.csv\".format(city_code), index=False)\n",
    "except:\n",
    "    pass"
   ]
  },
  {
   "cell_type": "code",
   "execution_count": 40,
   "metadata": {
    "collapsed": true
   },
   "outputs": [],
   "source": [
    "driver.quit()"
   ]
  }
 ],
 "metadata": {
  "kernelspec": {
   "display_name": "Python 3",
   "language": "python",
   "name": "python3"
  },
  "language_info": {
   "codemirror_mode": {
    "name": "ipython",
    "version": 3
   },
   "file_extension": ".py",
   "mimetype": "text/x-python",
   "name": "python",
   "nbconvert_exporter": "python",
   "pygments_lexer": "ipython3",
   "version": "3.5.1"
  }
 },
 "nbformat": 4,
 "nbformat_minor": 0
}
