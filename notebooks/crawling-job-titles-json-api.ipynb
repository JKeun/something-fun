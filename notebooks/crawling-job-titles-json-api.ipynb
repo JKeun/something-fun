{
 "cells": [
  {
   "cell_type": "markdown",
   "metadata": {},
   "source": [
    "## America's Job Exchange"
   ]
  },
  {
   "cell_type": "code",
   "execution_count": 1,
   "metadata": {
    "scrolled": false
   },
   "outputs": [
    {
     "name": "stdout",
     "output_type": "stream",
     "text": [
      "length of category_dict =  24\n",
      "length of job_dict =  35\n",
      "length of job_dict =  48\n",
      "length of job_dict =  45\n",
      "length of job_dict =  48\n",
      "length of job_dict =  6\n",
      "length of job_dict =  48\n",
      "length of job_dict =  42\n",
      "length of job_dict =  47\n",
      "length of job_dict =  10\n",
      "length of job_dict =  26\n",
      "length of job_dict =  8\n",
      "length of job_dict =  29\n",
      "length of job_dict =  49\n",
      "length of job_dict =  46\n",
      "length of job_dict =  45\n",
      "length of job_dict =  26\n",
      "length of job_dict =  10\n",
      "length of job_dict =  14\n",
      "length of job_dict =  17\n",
      "length of job_dict =  24\n",
      "length of job_dict =  14\n",
      "length of job_dict =  28\n",
      "length of job_dict =  50\n",
      "length of job_dict =  45\n",
      "total_length :  760\n",
      "total_count :  24\n"
     ]
    }
   ],
   "source": [
    "import requests\n",
    "import json\n",
    "\n",
    "response = requests.get(\"http://www.americasjobexchange.com/job-descriptions/service/lookup\")\n",
    "category_dict = json.loads(response.text)\n",
    "\n",
    "print(\"length of category_dict = \", len(category_dict))\n",
    "total_length = 0\n",
    "total_count = 0\n",
    "\n",
    "df = pd.DataFrame(columns=[\"category\", \"job\", \"summary\", \"responsibilities\", \"url\"])\n",
    "\n",
    "for i in range(len(category_dict)):\n",
    "    job_dict = category_dict[i].get(\"subCategories\")\n",
    "    \n",
    "    print(\"length of job_dict = \", len(job_dict))\n",
    "    total_length += len(job_dict)\n",
    "    total_count += 1\n",
    "\n",
    "    for j in range(len(job_dict)):\n",
    "        category = job_dict[j].get(\"category\")\n",
    "        job = job_dict[j].get(\"title\")\n",
    "        summary = job_dict[j].get(\"summary\")\n",
    "        responsibilities = job_dict[j].get(\"responsibilities\")\n",
    "        url = job_dict[j].get(\"url\")\n",
    "\n",
    "        df.loc[len(df)] = [category, job, summary, responsibilities, url]\n",
    "        \n",
    "print(\"total_length : \", total_length)\n",
    "print(\"total_count : \", total_count)\n",
    "\n",
    "df.to_csv(\"./job_titles.csv\", index=False)"
   ]
  },
  {
   "cell_type": "code",
   "execution_count": 2,
   "metadata": {
    "scrolled": false
   },
   "outputs": [
    {
     "data": {
      "text/html": [
       "<div>\n",
       "<table border=\"1\" class=\"dataframe\">\n",
       "  <thead>\n",
       "    <tr style=\"text-align: right;\">\n",
       "      <th></th>\n",
       "      <th>category</th>\n",
       "      <th>job</th>\n",
       "      <th>summary</th>\n",
       "      <th>responsibilities</th>\n",
       "      <th>url</th>\n",
       "    </tr>\n",
       "  </thead>\n",
       "  <tbody>\n",
       "    <tr>\n",
       "      <th>755</th>\n",
       "      <td>Transportation &amp; Logistics</td>\n",
       "      <td>Subway Operator</td>\n",
       "      <td>Responsible for operating a subway in suburban...</td>\n",
       "      <td>&lt;ul&gt;&lt;li&gt;Transport passengers on a subway.&lt;/li&gt;...</td>\n",
       "      <td>Subway-Operator-job-description</td>\n",
       "    </tr>\n",
       "    <tr>\n",
       "      <th>756</th>\n",
       "      <td>Transportation &amp; Logistics</td>\n",
       "      <td>Taxi Driver</td>\n",
       "      <td>Responsible for operating a vehicle and drivin...</td>\n",
       "      <td>&lt;ul&gt;&lt;li&gt;Drive people from one place to another...</td>\n",
       "      <td>Taxi-Driver-job-description</td>\n",
       "    </tr>\n",
       "    <tr>\n",
       "      <th>757</th>\n",
       "      <td>Transportation &amp; Logistics</td>\n",
       "      <td>Tractor-trailer Truck Driver</td>\n",
       "      <td>Responsible for transporting goods from one pl...</td>\n",
       "      <td>&lt;ul&gt;&lt;li&gt;Deliver goods while operating a tracto...</td>\n",
       "      <td>Tractor-trailer-Truck-Driver-job-description</td>\n",
       "    </tr>\n",
       "    <tr>\n",
       "      <th>758</th>\n",
       "      <td>Transportation &amp; Logistics</td>\n",
       "      <td>Transit Bus Driver</td>\n",
       "      <td>Responsible for transporting people from one p...</td>\n",
       "      <td>&lt;ul&gt;&lt;li&gt;Transport people from one place to ano...</td>\n",
       "      <td>Transit-Bus-Driver-job-description</td>\n",
       "    </tr>\n",
       "    <tr>\n",
       "      <th>759</th>\n",
       "      <td>Transportation &amp; Logistics</td>\n",
       "      <td>Yardmaster</td>\n",
       "      <td>Responsible for coordinating activities of fre...</td>\n",
       "      <td>&lt;ul&gt;&lt;li&gt;Oversee and coordinate the activities ...</td>\n",
       "      <td>Yardmaster-job-description</td>\n",
       "    </tr>\n",
       "  </tbody>\n",
       "</table>\n",
       "</div>"
      ],
      "text/plain": [
       "                       category                           job                                            summary                                   responsibilities  \\\n",
       "755  Transportation & Logistics               Subway Operator  Responsible for operating a subway in suburban...  <ul><li>Transport passengers on a subway.</li>...   \n",
       "756  Transportation & Logistics                   Taxi Driver  Responsible for operating a vehicle and drivin...  <ul><li>Drive people from one place to another...   \n",
       "757  Transportation & Logistics  Tractor-trailer Truck Driver  Responsible for transporting goods from one pl...  <ul><li>Deliver goods while operating a tracto...   \n",
       "758  Transportation & Logistics            Transit Bus Driver  Responsible for transporting people from one p...  <ul><li>Transport people from one place to ano...   \n",
       "759  Transportation & Logistics                    Yardmaster  Responsible for coordinating activities of fre...  <ul><li>Oversee and coordinate the activities ...   \n",
       "\n",
       "                                              url  \n",
       "755               Subway-Operator-job-description  \n",
       "756                   Taxi-Driver-job-description  \n",
       "757  Tractor-trailer-Truck-Driver-job-description  \n",
       "758            Transit-Bus-Driver-job-description  \n",
       "759                    Yardmaster-job-description  "
      ]
     },
     "execution_count": 2,
     "metadata": {},
     "output_type": "execute_result"
    }
   ],
   "source": [
    "df.tail()"
   ]
  },
  {
   "cell_type": "markdown",
   "metadata": {},
   "source": [
    "## linkein job titles 크롤링\n",
    "- 해당 링크로 접속시 블락되는 것 해결 필요"
   ]
  },
  {
   "cell_type": "code",
   "execution_count": 2,
   "metadata": {},
   "outputs": [],
   "source": [
    "import requests\n",
    "from bs4 import BeautifulSoup\n",
    "\n",
    "az_list = ['a', 'b', 'c', 'd', 'e', 'f', 'g', 'h', 'i', 'j', 'k', 'l', 'm', 'n', \n",
    "           'o', 'p', 'q', 'r', 's', 't', 'u', 'v', 'w', 'x', 'y', 'z', 'other' ]\n",
    "\n",
    "df = pd.DataFrame(columns = ['job_titles', 'link'])\n",
    "\n",
    "for az in az_list:\n",
    "    response = requests.get(\"https://uk.linkedin.com/jobs/directory/titles-{}/\".format(az))\n",
    "    dom = BeautifulSoup(response.content, \"html.parser\")\n",
    "    elements = dom.select(\"li.content\")\n",
    "\n",
    "    try:\n",
    "        for element in elements:\n",
    "            job_title = element.select_one('a.main').attrs.get('title')\n",
    "            link = element.select_one('a.min').attrs.get('href')\n",
    "\n",
    "            df.loc[len(df)] = [job_title, link]\n",
    "    except:\n",
    "        pass\n",
    "    \n",
    "df.to_csv(\"job_titles_linkedin.csv\", index=False)"
   ]
  },
  {
   "cell_type": "code",
   "execution_count": 10,
   "metadata": {},
   "outputs": [
    {
     "name": "stdout",
     "output_type": "stream",
     "text": [
      "<html><head>\n",
      "<script type=\"text/javascript\">\n",
      "window.onload = function() {\n",
      "  // Parse the tracking code from cookies.\n",
      "  var trk = \"sentinel_org_block\";\n",
      "  var trkInfo = \"sentinel_org_block\";\n",
      "  var cookies = document.cookie.split(\"; \");\n",
      "  for (var i = 0; i < cookies.length; ++i) {\n",
      "    if ((cookies[i].indexOf(\"trkCode=\") == 0) && (cookies[i].length > 8)) {\n",
      "      trk = cookies[i].substring(8);\n",
      "    }\n",
      "    else if ((cookies[i].indexOf(\"trkInfo=\") == 0) && (cookies[i].length > 8)) {\n",
      "      trkInfo = cookies[i].substring(8);\n",
      "    }\n",
      "  }\n",
      "\n",
      "  // Get the protocol for the redirect url.\n",
      "  var protocol = \"http:\";\n",
      "  if (window.location.protocol == \"https:\") {\n",
      "    protocol = \"https:\";\n",
      "  } else {\n",
      "    // If \"sl\" cookie is set, redirect to https.\n",
      "    for (var i = 0; i < cookies.length; ++i) {\n",
      "      if ((cookies[i].indexOf(\"sl=\") == 0) && (cookies[i].length > 3)) {\n",
      "        window.location.href = \"https:\" + window.location.href.substring(window.location.protocol.length);\n",
      "        return;\n",
      "      }\n",
      "    }\n",
      "  }\n",
      "\n",
      "  // Get the new domain. For touch.www.linkedin.com or tablet.www.linkedin.com\n",
      "  // we strip \"touch.\" and \"tablet.\". For international domains such as\n",
      "  // fr.linkedin.com, we convert it to www.linkedin.com\n",
      "  var domain = location.host;\n",
      "  if (domain.substr(0, 6) == \"touch.\") {\n",
      "    domain = domain.substr(6);\n",
      "  } else if (domain.substr(0, 7) == \"tablet.\") {\n",
      "    domain = domain.substr(7);\n",
      "  } else if (domain.charAt(2) == \".\") {\n",
      "    domain = \"www\" + domain.substr(2);\n",
      "  }\n",
      "  \n",
      "  window.location.href = \"https://\" + domain + \"/uas/login?trk=\" + trk + \"&trkInfo=\" + trkInfo + \"&session_redirect=\" +\n",
      "      encodeURIComponent(protocol + \"//\" + domain +\n",
      "      window.location.href.substr(window.location.href.search(window.location.host) +\n",
      "                                  window.location.host.length));\n",
      "}\n",
      "</script>\n",
      "</head></html>\n",
      "\n"
     ]
    }
   ],
   "source": [
    "import requests\n",
    "from bs4 import BeautifulSoup\n",
    "\n",
    "az_list = ['a']\n",
    "\n",
    "df = pd.DataFrame(columns = ['job_titles', 'link'])\n",
    "\n",
    "for az in az_list:\n",
    "    response = requests.get(\"https://www.linkedin.com/jobs/directory/titles-{}/\".format(az))\n",
    "    dom = BeautifulSoup(response.content, \"html.parser\")\n",
    "#     elements = dom.select(\"#seo-dir\")\n",
    "\n",
    "print(dom)"
   ]
  },
  {
   "cell_type": "code",
   "execution_count": 5,
   "metadata": {},
   "outputs": [
    {
     "data": {
      "text/html": [
       "<div>\n",
       "<table border=\"1\" class=\"dataframe\">\n",
       "  <thead>\n",
       "    <tr style=\"text-align: right;\">\n",
       "      <th></th>\n",
       "      <th>job_titles</th>\n",
       "      <th>link</th>\n",
       "    </tr>\n",
       "  </thead>\n",
       "  <tbody>\n",
       "  </tbody>\n",
       "</table>\n",
       "</div>"
      ],
      "text/plain": [
       "Empty DataFrame\n",
       "Columns: [job_titles, link]\n",
       "Index: []"
      ]
     },
     "execution_count": 5,
     "metadata": {},
     "output_type": "execute_result"
    }
   ],
   "source": [
    "df.tail()"
   ]
  }
 ],
 "metadata": {
  "kernelspec": {
   "display_name": "Python 3",
   "language": "python",
   "name": "python3"
  },
  "language_info": {
   "codemirror_mode": {
    "name": "ipython",
    "version": 3
   },
   "file_extension": ".py",
   "mimetype": "text/x-python",
   "name": "python",
   "nbconvert_exporter": "python",
   "pygments_lexer": "ipython3",
   "version": "3.5.1"
  }
 },
 "nbformat": 4,
 "nbformat_minor": 1
}
